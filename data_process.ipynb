{
 "cells": [
  {
   "cell_type": "code",
   "execution_count": 189,
   "id": "e789c788",
   "metadata": {},
   "outputs": [],
   "source": [
    "import numpy as np\n",
    "import matplotlib.pyplot as plt\n",
    "import pandas as pd\n",
    "from sklearn.preprocessing import MinMaxScaler\n",
    "import xgboost as xgb\n",
    "from sklearn.model_selection import train_test_split\n",
    "from sklearn.compose import ColumnTransformer\n",
    "from sklearn.preprocessing import StandardScaler\n",
    "from sklearn.impute import SimpleImputer\n",
    "from sklearn.pipeline import Pipeline\n",
    "from sklearn.model_selection import GridSearchCV\n",
    "import pickle\n",
    "from sklearn.metrics import accuracy_score\n"
   ]
  },
  {
   "cell_type": "code",
   "execution_count": 190,
   "id": "51df6df8",
   "metadata": {
    "scrolled": true
   },
   "outputs": [
    {
     "name": "stdout",
     "output_type": "stream",
     "text": [
      "cpu\n",
      "           value                           perf\n",
      "0.010162    2599  armv8_cortex_a72/br_mis_pred/\n",
      "0.010162  118890      armv8_cortex_a72/br_pred/\n",
      "0.010162    1818                   cache-misses\n",
      "0.010162  220065               cache-references\n",
      "0.010162  200215                      ldst_spec\n"
     ]
    }
   ],
   "source": [
    "\n",
    "#======================================================================\n",
    "# Load the dataset\n",
    "fields = ['value', 'perf']\n",
    "data_attack = pd.read_csv('../data/data.csv', skipinitialspace=True, usecols=fields, sep = \", \", engine='python')\n",
    "data_normal = pd.read_csv('../data/data_normal.csv', skipinitialspace=True, usecols=fields, sep = \", \", engine='python')\n",
    "print(data_attack.head())\n"
   ]
  },
  {
   "cell_type": "code",
   "execution_count": 191,
   "id": "4913c94f",
   "metadata": {},
   "outputs": [
    {
     "name": "stdout",
     "output_type": "stream",
     "text": [
      "(7182, 2) (6075, 2) (3440, 2) (3440, 2)\n"
     ]
    }
   ],
   "source": [
    "fields = ['value', 'perf']\n",
    "normal_2 = pd.read_csv('../data/normal_2.csv', skipinitialspace=True, usecols=fields, sep = \", \", engine='python')\n",
    "attack_2 = pd.read_csv('../data/attack_2.csv', skipinitialspace=True, usecols=fields, sep = \", \", engine='python')\n",
    "frames = [normal_2, attack_2, data_normal]\n",
    "print(data_attack.shape,normal_2.shape, attack_2.shape,data_normal.shape)\n",
    "#print(data_attack.shape[0])\n"
   ]
  },
  {
   "cell_type": "code",
   "execution_count": 192,
   "id": "81d44e48",
   "metadata": {
    "scrolled": true
   },
   "outputs": [
    {
     "name": "stdout",
     "output_type": "stream",
     "text": [
      "perf  armv8_cortex_a72/br_mis_pred/  armv8_cortex_a72/br_pred/  cache-misses  \\\n",
      "1                            2599.0                   118890.0        1818.0   \n",
      "2                            4122.0                   232571.0        3051.0   \n",
      "3                             694.0                  1128257.0         436.0   \n",
      "4                             479.0                  1878142.0         369.0   \n",
      "5                             284.0                  2339224.0         263.0   \n",
      "..                              ...                        ...           ...   \n",
      "684                         69241.0                  2996293.0         148.0   \n",
      "685                         67069.0                  2907718.0         187.0   \n",
      "686                         71851.0                  3072065.0         181.0   \n",
      "687                         71184.0                  2974060.0         149.0   \n",
      "688                         14436.0                   601533.0        1023.0   \n",
      "\n",
      "perf  cache-references   ldst_spec    y  \n",
      "1             220065.0    200215.0  1.0  \n",
      "2             389097.0    426419.0  1.0  \n",
      "3            1867250.0   2630700.0  1.0  \n",
      "4            3107977.0   4399655.0  1.0  \n",
      "5            3869617.0   5486039.0  1.0  \n",
      "..                 ...         ...  ...  \n",
      "684         11755946.0  12467090.0  0.0  \n",
      "685         11401412.0  12081826.0  0.0  \n",
      "686         12051538.0  12787572.0  0.0  \n",
      "687         11678952.0  12420862.0  0.0  \n",
      "688          2286629.0   2418476.0  0.0  \n",
      "\n",
      "[4028 rows x 6 columns]\n"
     ]
    },
    {
     "name": "stderr",
     "output_type": "stream",
     "text": [
      "C:\\Users\\Sirius\\AppData\\Local\\Temp/ipykernel_23868/2837050059.py:3: FutureWarning: In a future version of pandas all arguments of DataFrame.sort_index will be keyword-only\n",
      "  data_new = data_attack.set_index([data_attack.groupby(c).cumcount() + 1, c]).unstack().sort_index(1, 1)\n",
      "C:\\Users\\Sirius\\AppData\\Local\\Temp/ipykernel_23868/2837050059.py:8: FutureWarning: In a future version of pandas all arguments of DataFrame.sort_index will be keyword-only\n",
      "  temp = frame.set_index([frame.groupby(c).cumcount() + 1, c]).unstack().sort_index(1, 1)\n"
     ]
    }
   ],
   "source": [
    "pd.set_option('display.max_colwidth', None)\n",
    "c = 'perf'\n",
    "data_new = data_attack.set_index([data_attack.groupby(c).cumcount() + 1, c]).unstack().sort_index(1, 1)\n",
    "data_new.columns = data_new.columns.droplevel(0)\n",
    "data_new['y'] = np.ones([data_new.shape[0],1])\n",
    "i = 0\n",
    "for frame in frames:\n",
    "    temp = frame.set_index([frame.groupby(c).cumcount() + 1, c]).unstack().sort_index(1, 1)\n",
    "    #data_normal_new = data_normal.set_index([data_normal.groupby(c).cumcount() + 1, c]).unstack().sort_index(1, 1)\n",
    "    temp.columns = temp.columns.droplevel(0)\n",
    "    if i%2 == 0: #TODO fix this logic\n",
    "        temp['y'] = np.zeros([temp.shape[0],1])\n",
    "    else:\n",
    "        temp['y'] = np.ones([temp.shape[0],1])\n",
    "    i=i+1\n",
    "    data_new = pd.concat([data_new,temp],axis=0)\n",
    "\n",
    "    #data_new.tail()\n",
    "#data_new.columns = data_new.columns.droplevel(0)\n",
    "print(data_new)"
   ]
  },
  {
   "cell_type": "code",
   "execution_count": 193,
   "id": "c54e6dab",
   "metadata": {},
   "outputs": [],
   "source": [
    "# Remove outliers\n",
    "for df in data_new.drop(['y'],axis=1):\n",
    "    q_low = data_new[df].quantile(0.01)\n",
    "    q_hi  = data_new[df].quantile(0.99)\n",
    "    data_new = data_new[(data_new[df]< q_hi) & (data_new[df] > q_low)]\n",
    "\n",
    "#TODO fix this unused\n",
    "for df in data_normal_new:\n",
    "    q_low = data_normal_new[df].quantile(0.01)\n",
    "    q_hi  = data_normal_new[df].quantile(0.99)\n",
    "    data_normal_new = data_normal_new[(data_normal_new[df]< q_hi) & (data_normal_new[df] > q_low)]"
   ]
  },
  {
   "cell_type": "markdown",
   "id": "7874d7ba",
   "metadata": {},
   "source": [
    "Removed the outliars from the data\n",
    "Calculate br_miss_rate, cache_miss_rate, relative_spec_load"
   ]
  },
  {
   "cell_type": "code",
   "execution_count": 194,
   "id": "30bcc49d",
   "metadata": {},
   "outputs": [
    {
     "name": "stdout",
     "output_type": "stream",
     "text": [
      "<bound method NDFrame.head of perf  armv8_cortex_a72/br_mis_pred/  armv8_cortex_a72/br_pred/  cache-misses  \\\n",
      "14                          60819.0                  2629485.0        3672.0   \n",
      "19                          61861.0                  2632992.0        3438.0   \n",
      "23                          60652.0                  2625844.0        3973.0   \n",
      "24                          59746.0                  2630356.0        3528.0   \n",
      "29                          59799.0                  2640267.0        3434.0   \n",
      "..                              ...                        ...           ...   \n",
      "680                         71191.0                  3018915.0         184.0   \n",
      "681                         72125.0                  3016525.0         188.0   \n",
      "682                         71359.0                  3024751.0         152.0   \n",
      "683                         68837.0                  2951922.0         181.0   \n",
      "685                         67069.0                  2907718.0         187.0   \n",
      "\n",
      "perf  cache-references   ldst_spec    y  br_miss_rate  cache_miss_rate  \\\n",
      "14          10101077.0  10856229.0  1.0      0.023130         0.036353   \n",
      "19          10092170.0  10868761.0  1.0      0.023495         0.034066   \n",
      "23          10142217.0  10830951.0  1.0      0.023098         0.039173   \n",
      "24          10085149.0  10834704.0  1.0      0.022714         0.034982   \n",
      "29          10057496.0  10977046.0  1.0      0.022649         0.034144   \n",
      "..                 ...         ...  ...           ...              ...   \n",
      "680         11829984.0  12569854.0  0.0      0.023582         0.001555   \n",
      "681         11842239.0  12596388.0  0.0      0.023910         0.001588   \n",
      "682         11874017.0  12610531.0  0.0      0.023592         0.001280   \n",
      "683         11579237.0  12288270.0  0.0      0.023319         0.001563   \n",
      "685         11401412.0  12081826.0  0.0      0.023066         0.001640   \n",
      "\n",
      "perf  spec_load  \n",
      "14     0.857909  \n",
      "19     0.858899  \n",
      "23     0.855911  \n",
      "24     0.856208  \n",
      "29     0.867456  \n",
      "..          ...  \n",
      "680    0.993327  \n",
      "681    0.995424  \n",
      "682    0.996542  \n",
      "683    0.971075  \n",
      "685    0.954761  \n",
      "\n",
      "[3625 rows x 9 columns]>\n"
     ]
    }
   ],
   "source": [
    "# create 3 new features branch miss rate, cache miss rate, spec load\n",
    "data_new['br_miss_rate']=data_new['armv8_cortex_a72/br_mis_pred/'].truediv(data_new['armv8_cortex_a72/br_pred/'])\n",
    "data_new['cache_miss_rate']=data_new['cache-misses'].mul(100).truediv(data_new['cache-references'])\n",
    "data_new['spec_load'] = data_new['ldst_spec'].truediv(data_new['ldst_spec'].max())\n",
    "\n",
    "data_normal_new['br_miss_rate']=data_normal_new['armv8_cortex_a72/br_mis_pred/'].truediv(data_normal_new['armv8_cortex_a72/br_pred/'])\n",
    "data_normal_new[('cache_miss_rate')]=data_normal_new[('cache-misses')].mul(100).truediv(data_normal_new[('cache-references')])\n",
    "data_normal_new[('spec_load')] = data_normal_new[('ldst_spec')].truediv(data_normal_new[('ldst_spec')].max())\n",
    "\n",
    "scaler = MinMaxScaler()\n",
    "#data_new['br_miss_rate'] = scaler.fit_transform(data_new['br_miss_rate'].values.reshape(-1,1))\n",
    "#data_new['cache_miss_rate'] = scaler.fit_transform(data_new['cache_miss_rate'].values.reshape(-1,1))\n",
    "#data_new['ldst_spec'] = scaler.fit_transform(data_new['ldst_spec'].values.reshape(-1,1))\n",
    "\n",
    "#data_normal_new['br_miss_rate'] = scaler.fit_transform(data_normal_new['br_miss_rate'].values.reshape(-1,1))\n",
    "#data_normal_new['cache_miss_rate'] = scaler.fit_transform(data_normal_new['cache_miss_rate'].values.reshape(-1,1))\n",
    "#data_normal_new['ldst_spec'] = scaler.fit_transform(data_normal_new['ldst_spec'].values.reshape(-1,1))\n",
    "\n",
    "print(data_new.head)"
   ]
  },
  {
   "cell_type": "code",
   "execution_count": 195,
   "id": "68537002",
   "metadata": {},
   "outputs": [
    {
     "data": {
      "text/plain": [
       "<AxesSubplot:ylabel='Frequency'>"
      ]
     },
     "execution_count": 195,
     "metadata": {},
     "output_type": "execute_result"
    },
    {
     "data": {
      "image/png": "[encoded data removed]",
      "text/plain": [
       "<Figure size 432x288 with 1 Axes>"
      ]
     },
     "metadata": {
      "needs_background": "light"
     },
     "output_type": "display_data"
    }
   ],
   "source": [
    "#data_new[('cache_miss_rate')].plot.hist(label='cache_miss_rate',legend=True)\n",
    "#data_new[('br_miss_rate')].plot.hist(label='br_miss_rate',legend=True)\n",
    "data_new[('spec_load')].plot.hist(label='spec_load',legend=True)"
   ]
  },
  {
   "cell_type": "markdown",
   "id": "46110867",
   "metadata": {},
   "source": [
    "\n"
   ]
  },
  {
   "cell_type": "code",
   "execution_count": 196,
   "id": "fe8fa8a9",
   "metadata": {
    "scrolled": true
   },
   "outputs": [
    {
     "data": {
      "image/png": "[encoded data removed]",
      "text/plain": [
       "<Figure size 432x288 with 1 Axes>"
      ]
     },
     "metadata": {
      "needs_background": "light"
     },
     "output_type": "display_data"
    }
   ],
   "source": [
    "\n",
    "\n",
    "ax =data_normal_new.plot.scatter(x='br_miss_rate', color=\"g\",y='cache_miss_rate',legend=True)\n",
    "X= data_new.plot.scatter(x='br_miss_rate',y='cache_miss_rate', color=\"r\",legend=True,ax=ax)\n"
   ]
  },
  {
   "cell_type": "code",
   "execution_count": 197,
   "id": "ee5147df",
   "metadata": {},
   "outputs": [
    {
     "data": {
      "text/plain": [
       "<AxesSubplot:>"
      ]
     },
     "execution_count": 197,
     "metadata": {},
     "output_type": "execute_result"
    },
    {
     "data": {
      "image/png": "[encoded data removed]",
      "text/plain": [
       "<Figure size 432x288 with 1 Axes>"
      ]
     },
     "metadata": {
      "needs_background": "light"
     },
     "output_type": "display_data"
    }
   ],
   "source": [
    "#data_normal_new[('cache_miss_rate')].plot(label='cache_miss_rate',legend=True)\n",
    "data_normal_new[('br_miss_rate')].plot(label='br_miss_rate_N',legend=True)\n",
    "#data_normal_new[('spec_load')].plot(label='spec_load',legend=True)\n",
    "#data_new[('cache_miss_rate')].plot(label='cache_miss_rate',legend=True)\n",
    "data_new[('br_miss_rate')].plot(label='br_miss_rate_A',legend=True)\n",
    "#data_new[('spec_load')].plot(label='spec_load',legend=True)"
   ]
  },
  {
   "cell_type": "code",
   "execution_count": 205,
   "id": "a3f469eb",
   "metadata": {},
   "outputs": [
    {
     "name": "stdout",
     "output_type": "stream",
     "text": [
      "[19:07:49] WARNING: D:\\bld\\xgboost-split_1643227225381\\work\\src\\learner.cc:1115: Starting in XGBoost 1.3.0, the default evaluation metric used with the objective 'binary:logistic' was changed from 'error' to 'logloss'. Explicitly set eval_metric if you'd like to restore the old behavior.\n"
     ]
    },
    {
     "name": "stderr",
     "output_type": "stream",
     "text": [
      "D:\\Installed_soft\\lib\\site-packages\\xgboost\\sklearn.py:1224: UserWarning: The use of label encoder in XGBClassifier is deprecated and will be removed in a future release. To remove this warning, do the following: 1) Pass option use_label_encoder=False when constructing XGBClassifier object; and 2) Encode your labels (y) as integers starting with 0, i.e. 0, 1, 2, ..., [num_class - 1].\n",
      "  warnings.warn(label_encoder_deprecation_msg, UserWarning)\n"
     ]
    }
   ],
   "source": [
    "\n",
    "data_train = data_new[['cache_miss_rate','br_miss_rate','spec_load']]\n",
    "y_train = data_new['y']\n",
    "numeric_pipeline = Pipeline(steps=[(\"impute\", SimpleImputer(strategy=\"mean\")), (\"scale\", StandardScaler())])\n",
    "num_cols = data_train.columns\n",
    "full_processor = ColumnTransformer(transformers=[(\"numeric\", numeric_pipeline, num_cols)])\n",
    "\n",
    "# Apply preprocessing\n",
    "X_processed = full_processor.fit_transform(data_train)\n",
    "#y_processed = SimpleImputer(strategy=\"most_frequent\").fit_transform(y.values.reshape(-1, 1))\n",
    "\n",
    "\n",
    "X_train, X_test, y_train, y_test = train_test_split(data_train, y_train, stratify=y_train, random_state=9229219)\n",
    "#xgb_cl = xgb.XGBClassifier()\n",
    "\n",
    "param_grid = {\n",
    "    \"max_depth\": [3, 4, 5, 7, 10],\n",
    "    \"learning_rate\": [0.1, 0.01, 0.05, 0.5],\n",
    "    \"gamma\": [0, 0.25, 1],\n",
    "    \"reg_lambda\": [0, 1, 10],\n",
    "    \"scale_pos_weight\": [1, 3, 5],\n",
    "    \"subsample\": [0.8],\n",
    "    \"colsample_bytree\": [0.5],\n",
    "}\n",
    "\n",
    "# Init classifier\n",
    "xgb_cl = xgb.XGBClassifier(objective=\"binary:logistic\")\n",
    "\n",
    "# Init Grid Search\n",
    "grid_cv = GridSearchCV(xgb_cl, param_grid, n_jobs=-1, cv=3, scoring=\"roc_auc\")\n",
    "\n",
    "# Fit\n",
    "grid_cv.fit(X_train, y_train)\n",
    "\n",
    "filename = 'finalized_model.sav'\n",
    "pickle.dump(grid_cv, open(filename, 'wb'))"
   ]
  },
  {
   "cell_type": "code",
   "execution_count": 206,
   "id": "e277e242",
   "metadata": {},
   "outputs": [
    {
     "data": {
      "text/plain": [
       "0.6152149944873209"
      ]
     },
     "execution_count": 206,
     "metadata": {},
     "output_type": "execute_result"
    }
   ],
   "source": [
    "\n",
    "# Predict\n",
    "loaded_model = pickle.load(open(filename, 'rb'))\n",
    "preds = loaded_model.predict(X_test)\n",
    "accuracy_score(y_test, preds)\n"
   ]
  },
  {
   "cell_type": "code",
   "execution_count": null,
   "id": "528b7112",
   "metadata": {},
   "outputs": [],
   "source": []
  }
 ],
 "metadata": {
  "kernelspec": {
   "display_name": "Python 3 (ipykernel)",
   "language": "python",
   "name": "python3"
  },
  "language_info": {
   "codemirror_mode": {
    "name": "ipython",
    "version": 3
   },
   "file_extension": ".py",
   "mimetype": "text/x-python",
   "name": "python",
   "nbconvert_exporter": "python",
   "pygments_lexer": "ipython3",
   "version": "3.9.7"
  }
 },
 "nbformat": 4,
 "nbformat_minor": 5
}
